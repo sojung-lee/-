{
 "cells": [
  {
   "cell_type": "code",
   "execution_count": 108,
   "id": "258f582c",
   "metadata": {},
   "outputs": [],
   "source": [
    "import pandas as pd\n",
    "import numpy as np\n",
    "import matplotlib.pyplot as plt\n",
    "\n",
    "np.random.seed(2021)"
   ]
  },
  {
   "cell_type": "markdown",
   "id": "b7683df0",
   "metadata": {},
   "source": [
    "# 1. Univariate Regression"
   ]
  },
  {
   "cell_type": "markdown",
   "id": "6d16e287",
   "metadata": {},
   "source": [
    "## 1.1 Sample Data"
   ]
  },
  {
   "cell_type": "code",
   "execution_count": 109,
   "id": "30de507a",
   "metadata": {},
   "outputs": [],
   "source": [
    "X = np.array([1,2,3,4])\n",
    "y = np.array([2,1,4,3])"
   ]
  },
  {
   "cell_type": "code",
   "execution_count": 110,
   "id": "d7765958",
   "metadata": {},
   "outputs": [
    {
     "data": {
      "text/plain": [
       "<matplotlib.collections.PathCollection at 0x144f8f130>"
      ]
     },
     "execution_count": 110,
     "metadata": {},
     "output_type": "execute_result"
    },
    {
     "data": {
      "image/png": "[encoded data removed]",
      "text/plain": [
       "<Figure size 432x288 with 1 Axes>"
      ]
     },
     "metadata": {
      "needs_background": "light"
     },
     "output_type": "display_data"
    }
   ],
   "source": [
    "plt.scatter(X,y)"
   ]
  },
  {
   "cell_type": "markdown",
   "id": "357da447",
   "metadata": {},
   "source": [
    "## 1.2 Data 변환\n",
    "#### * n은 데이터의 개수를 의미한다\n",
    "#### * c는 feature의 개수를 의미한다\n",
    "##### 우리가 사용하는 데이터는 4개의 데이터와 1개의 feature로 이루어져있다."
   ]
  },
  {
   "cell_type": "code",
   "execution_count": 111,
   "id": "a562be91",
   "metadata": {},
   "outputs": [
    {
     "data": {
      "text/plain": [
       "array([1, 2, 3, 4])"
      ]
     },
     "execution_count": 111,
     "metadata": {},
     "output_type": "execute_result"
    }
   ],
   "source": [
    "X"
   ]
  },
  {
   "cell_type": "code",
   "execution_count": 112,
   "id": "a8c57fae",
   "metadata": {},
   "outputs": [
    {
     "data": {
      "text/plain": [
       "(4,)"
      ]
     },
     "execution_count": 112,
     "metadata": {},
     "output_type": "execute_result"
    }
   ],
   "source": [
    "X.shape"
   ]
  },
  {
   "cell_type": "code",
   "execution_count": 113,
   "id": "4c4df064",
   "metadata": {},
   "outputs": [],
   "source": [
    "data = X.reshape(-1, 1)"
   ]
  },
  {
   "cell_type": "code",
   "execution_count": 114,
   "id": "6434bd85",
   "metadata": {},
   "outputs": [
    {
     "data": {
      "text/plain": [
       "array([[1],\n",
       "       [2],\n",
       "       [3],\n",
       "       [4]])"
      ]
     },
     "execution_count": 114,
     "metadata": {},
     "output_type": "execute_result"
    }
   ],
   "source": [
    "data"
   ]
  },
  {
   "cell_type": "code",
   "execution_count": 115,
   "id": "96f2312d",
   "metadata": {},
   "outputs": [
    {
     "data": {
      "text/plain": [
       "(4, 1)"
      ]
     },
     "execution_count": 115,
     "metadata": {},
     "output_type": "execute_result"
    }
   ],
   "source": [
    "data.shape"
   ]
  },
  {
   "cell_type": "markdown",
   "id": "d9e2ff11",
   "metadata": {},
   "source": [
    "## 1.3 Linear Regression\n",
    "\n",
    "#### scikii-learn 패키지의 LinearRegression을 이용해 선형 회귀 모델을 생성\n",
    "#### model을 학습은 fit함수를 이용해서 할 수 있습니다.\n",
    "#### model.fit(x=..., y=...)\n",
    "#### x는 학습에 사용할 데이터를 y는 학습에 사용할 정답"
   ]
  },
  {
   "cell_type": "code",
   "execution_count": 116,
   "id": "2da4305b",
   "metadata": {},
   "outputs": [],
   "source": [
    "from sklearn.linear_model import LinearRegression"
   ]
  },
  {
   "cell_type": "code",
   "execution_count": 117,
   "id": "06d7df9f",
   "metadata": {},
   "outputs": [],
   "source": [
    "model = LinearRegression()"
   ]
  },
  {
   "cell_type": "code",
   "execution_count": 118,
   "id": "a09d6f76",
   "metadata": {},
   "outputs": [
    {
     "data": {
      "text/plain": [
       "LinearRegression()"
      ]
     },
     "execution_count": 118,
     "metadata": {},
     "output_type": "execute_result"
    }
   ],
   "source": [
    "model.fit(X=data, y=y) # 출력: LinearRegression(copy_X = True, fit_intercept=True, n_jobs=None, normalize=False)"
   ]
  },
  {
   "cell_type": "code",
   "execution_count": 119,
   "id": "b91bdeee",
   "metadata": {},
   "outputs": [],
   "source": [
    "#model.fit(data, y)"
   ]
  },
  {
   "cell_type": "markdown",
   "id": "5ac8baca",
   "metadata": {},
   "source": [
    "## 1.3.2 모델의 식 확인\n",
    "\n",
    "#### bias, 편향을 먼저 확인\n",
    "#### sklearn에서는 intercept_로 확인"
   ]
  },
  {
   "cell_type": "code",
   "execution_count": 120,
   "id": "d33b0c30",
   "metadata": {},
   "outputs": [
    {
     "data": {
      "text/plain": [
       "1.0000000000000004"
      ]
     },
     "execution_count": 120,
     "metadata": {},
     "output_type": "execute_result"
    }
   ],
   "source": [
    "model.intercept_"
   ]
  },
  {
   "cell_type": "markdown",
   "id": "5d9245d3",
   "metadata": {},
   "source": [
    "#### 다음은 회귀계수입니다\n",
    "#### coef_로 확인할 수 있다"
   ]
  },
  {
   "cell_type": "code",
   "execution_count": 121,
   "id": "6f1cdb79",
   "metadata": {},
   "outputs": [
    {
     "data": {
      "text/plain": [
       "array([0.6])"
      ]
     },
     "execution_count": 121,
     "metadata": {},
     "output_type": "execute_result"
    }
   ],
   "source": [
    "model.coef_"
   ]
  },
  {
   "cell_type": "markdown",
   "id": "1fd08fc4",
   "metadata": {},
   "source": [
    "#### 위의 두 결과로 다음과 같은 회귀선을 얻을 수 있다.\n",
    "#### y = 1.0000000000000004 + 0.6 * x"
   ]
  },
  {
   "cell_type": "markdown",
   "id": "2bc7e9a0",
   "metadata": {},
   "source": [
    "## 1.3.3 예측하기\n",
    "#### 이제 학습된 모델로 예측하는 방법에 대해서 알아보겠습니다.\n",
    "#### 모델의 예측은 predict 함수를 통해 알 수 있습니다."
   ]
  },
  {
   "cell_type": "code",
   "execution_count": 122,
   "id": "a7c4d87c",
   "metadata": {},
   "outputs": [],
   "source": [
    "pred = model.predict(data)"
   ]
  },
  {
   "cell_type": "code",
   "execution_count": 123,
   "id": "5b27c9a6",
   "metadata": {},
   "outputs": [
    {
     "data": {
      "text/plain": [
       "array([1.6, 2.2, 2.8, 3.4])"
      ]
     },
     "execution_count": 123,
     "metadata": {},
     "output_type": "execute_result"
    }
   ],
   "source": [
    "pred"
   ]
  },
  {
   "cell_type": "markdown",
   "id": "e5e1d789",
   "metadata": {},
   "source": [
    "## 1.4 회귀선을 plot으로 표현하기"
   ]
  },
  {
   "cell_type": "code",
   "execution_count": 124,
   "id": "c803b733",
   "metadata": {},
   "outputs": [
    {
     "data": {
      "text/plain": [
       "[<matplotlib.lines.Line2D at 0x1450b7280>]"
      ]
     },
     "execution_count": 124,
     "metadata": {},
     "output_type": "execute_result"
    },
    {
     "data": {
      "image/png": "[encoded data removed]",
      "text/plain": [
       "<Figure size 432x288 with 1 Axes>"
      ]
     },
     "metadata": {
      "needs_background": "light"
     },
     "output_type": "display_data"
    }
   ],
   "source": [
    "plt.scatter(X,y)\n",
    "plt.plot(X, pred, color='green')"
   ]
  },
  {
   "cell_type": "markdown",
   "id": "3fb5c416",
   "metadata": {},
   "source": [
    "# 2. Multivariate Regression"
   ]
  },
  {
   "cell_type": "markdown",
   "id": "fc21b9bc",
   "metadata": {},
   "source": [
    "## 2.1 Sample Data\n",
    "#### Multivariate Regression에서 사용할 데이터를 생성하고 학습된 회귀식과 비교해 보겠습니다."
   ]
  },
  {
   "cell_type": "code",
   "execution_count": 125,
   "id": "604349fd",
   "metadata": {},
   "outputs": [],
   "source": [
    "bias = 1\n",
    "beta = np.array([2,3,4,5]).reshape(4,1)\n",
    "noise = np.random.randn(100,1)"
   ]
  },
  {
   "cell_type": "code",
   "execution_count": 126,
   "id": "462712fe",
   "metadata": {},
   "outputs": [],
   "source": [
    "X = np.random.randn(100, 4)\n",
    "y = bias + X.dot(beta)\n",
    "y_with_noise = y + noise"
   ]
  },
  {
   "cell_type": "code",
   "execution_count": 127,
   "id": "4b9bdc26",
   "metadata": {},
   "outputs": [
    {
     "data": {
      "text/plain": [
       "array([[-0.74057432,  0.45823318,  1.2572469 , -0.44170407],\n",
       "       [ 0.5413351 ,  0.5672784 , -0.43538181,  0.76681236],\n",
       "       [ 0.48084856, -0.88128189, -0.68428578,  0.45401778],\n",
       "       [-0.72516608, -1.43882635,  2.15079225,  0.04869812],\n",
       "       [ 0.64711296, -1.07448408,  0.24474502,  0.37090588],\n",
       "       [ 0.41423217,  1.19669386,  1.0824733 ,  0.27691761],\n",
       "       [ 0.9303673 ,  0.33499986,  1.79409578, -0.95259799],\n",
       "       [-0.56992369,  0.24691765,  0.51129208, -0.43980433],\n",
       "       [ 1.79024025,  0.18092909,  0.38195648,  0.51485676],\n",
       "       [ 0.59167189,  1.9003216 ,  0.60031973, -0.12461753]])"
      ]
     },
     "execution_count": 127,
     "metadata": {},
     "output_type": "execute_result"
    }
   ],
   "source": [
    "X[:10]"
   ]
  },
  {
   "cell_type": "code",
   "execution_count": 128,
   "id": "1fd77b17",
   "metadata": {},
   "outputs": [
    {
     "data": {
      "text/plain": [
       "array([[ 3.71401813],\n",
       "       [ 5.87703996],\n",
       "       [-1.14920281],\n",
       "       [ 4.0798484 ],\n",
       "       [ 1.90428314],\n",
       "       [11.13302717],\n",
       "       [ 6.27912737],\n",
       "       [ 0.44705225],\n",
       "       [ 9.22537749],\n",
       "       [ 9.66249986]])"
      ]
     },
     "execution_count": 128,
     "metadata": {},
     "output_type": "execute_result"
    }
   ],
   "source": [
    "y[:10]"
   ]
  },
  {
   "cell_type": "markdown",
   "id": "f3e37129",
   "metadata": {},
   "source": [
    "## 2.2 Multivariate Regression"
   ]
  },
  {
   "cell_type": "code",
   "execution_count": 129,
   "id": "d9acc012",
   "metadata": {},
   "outputs": [
    {
     "data": {
      "text/plain": [
       "LinearRegression()"
      ]
     },
     "execution_count": 129,
     "metadata": {},
     "output_type": "execute_result"
    }
   ],
   "source": [
    "model = LinearRegression()\n",
    "model.fit(X, y_with_noise)"
   ]
  },
  {
   "cell_type": "markdown",
   "id": "c0a4a4a7",
   "metadata": {},
   "source": [
    "## 2.3 회귀식 확인하기"
   ]
  },
  {
   "cell_type": "code",
   "execution_count": 130,
   "id": "ff354b59",
   "metadata": {},
   "outputs": [
    {
     "data": {
      "text/plain": [
       "array([1.11417641])"
      ]
     },
     "execution_count": 130,
     "metadata": {},
     "output_type": "execute_result"
    }
   ],
   "source": [
    "model.intercept_"
   ]
  },
  {
   "cell_type": "code",
   "execution_count": 131,
   "id": "917f64a4",
   "metadata": {},
   "outputs": [
    {
     "data": {
      "text/plain": [
       "array([[1.99383579, 2.94374717, 3.97346537, 4.84223742]])"
      ]
     },
     "execution_count": 131,
     "metadata": {},
     "output_type": "execute_result"
    }
   ],
   "source": [
    "model.coef_"
   ]
  },
  {
   "cell_type": "markdown",
   "id": "b7dd09e6",
   "metadata": {},
   "source": [
    "#### 원래 식과 비교한 결과 편향은 잘 맞추지 못했지만 회귀 계수의 경우 비교적 정확하게 예측함"
   ]
  },
  {
   "cell_type": "markdown",
   "id": "f4b6c04f",
   "metadata": {},
   "source": [
    "## 2.4 통계적 방법"
   ]
  },
  {
   "cell_type": "code",
   "execution_count": 132,
   "id": "06de037d",
   "metadata": {},
   "outputs": [],
   "source": [
    "bias_X = np.array([1]*len(X)).reshape(-1,1)\n",
    "stat_X = np.hstack([bias_X, X])\n",
    "X_X_transpose = stat_X.transpose().dot(stat_X)\n",
    "X_X_transpose_inverse = np.linalg.inv(X_X_transpose)"
   ]
  },
  {
   "cell_type": "code",
   "execution_count": 133,
   "id": "3ded3e5c",
   "metadata": {},
   "outputs": [],
   "source": [
    "stat_beta = X_X_transpose_inverse.dot(stat_X.transpose()).dot(y_with_noise)"
   ]
  },
  {
   "cell_type": "code",
   "execution_count": 134,
   "id": "84eafcc6",
   "metadata": {},
   "outputs": [
    {
     "data": {
      "text/plain": [
       "array([[1.11417641],\n",
       "       [1.99383579],\n",
       "       [2.94374717],\n",
       "       [3.97346537],\n",
       "       [4.84223742]])"
      ]
     },
     "execution_count": 134,
     "metadata": {},
     "output_type": "execute_result"
    }
   ],
   "source": [
    "stat_beta"
   ]
  },
  {
   "cell_type": "markdown",
   "id": "095067c5",
   "metadata": {},
   "source": [
    "# 3. Polynomial Regression"
   ]
  },
  {
   "cell_type": "markdown",
   "id": "c60324be",
   "metadata": {},
   "source": [
    "#### 비선형 데이터를 생성해 보겠습니다."
   ]
  },
  {
   "cell_type": "code",
   "execution_count": 135,
   "id": "5b7f3309",
   "metadata": {},
   "outputs": [],
   "source": [
    "bias = 1\n",
    "beta = np.array([2,3]).reshape(2,1)\n",
    "noise = np.random.randn(100,1)"
   ]
  },
  {
   "cell_type": "code",
   "execution_count": 136,
   "id": "457e07ce",
   "metadata": {},
   "outputs": [],
   "source": [
    "X = np.random.randn(100,1)\n",
    "X_poly = np.hstack((X, X**2))"
   ]
  },
  {
   "cell_type": "code",
   "execution_count": 137,
   "id": "45bef39c",
   "metadata": {},
   "outputs": [
    {
     "data": {
      "text/plain": [
       "array([[-0.92491748,  0.85547234],\n",
       "       [ 1.01010697,  1.02031609],\n",
       "       [ 0.75532068,  0.57050933],\n",
       "       [ 0.8542725 ,  0.7297815 ],\n",
       "       [ 0.70907623,  0.5027891 ],\n",
       "       [ 0.82063592,  0.67344331],\n",
       "       [ 0.12924242,  0.0167036 ],\n",
       "       [ 0.07362991,  0.00542136],\n",
       "       [-0.25463986,  0.06484146],\n",
       "       [ 0.06335837,  0.00401428]])"
      ]
     },
     "execution_count": 137,
     "metadata": {},
     "output_type": "execute_result"
    }
   ],
   "source": [
    "X_poly[:10]"
   ]
  },
  {
   "cell_type": "code",
   "execution_count": 138,
   "id": "4327128f",
   "metadata": {},
   "outputs": [],
   "source": [
    "y = bias + X_poly.dot(beta)\n",
    "y_with_noise = y + noise"
   ]
  },
  {
   "cell_type": "code",
   "execution_count": 139,
   "id": "269c07b8",
   "metadata": {},
   "outputs": [
    {
     "data": {
      "text/plain": [
       "<matplotlib.collections.PathCollection at 0x1451167f0>"
      ]
     },
     "execution_count": 139,
     "metadata": {},
     "output_type": "execute_result"
    },
    {
     "data": {
      "image/png": "[encoded data removed]",
      "text/plain": [
       "<Figure size 432x288 with 1 Axes>"
      ]
     },
     "metadata": {
      "needs_background": "light"
     },
     "output_type": "display_data"
    }
   ],
   "source": [
    "plt.scatter(X, y_with_noise)"
   ]
  },
  {
   "cell_type": "markdown",
   "id": "bc65f6d3",
   "metadata": {},
   "source": [
    "## 3.2 Polynomial Regression"
   ]
  },
  {
   "cell_type": "markdown",
   "id": "78934406",
   "metadata": {},
   "source": [
    "## 3.2.1 학습하기"
   ]
  },
  {
   "cell_type": "code",
   "execution_count": 140,
   "id": "abc4fa15",
   "metadata": {},
   "outputs": [
    {
     "data": {
      "text/plain": [
       "LinearRegression()"
      ]
     },
     "execution_count": 140,
     "metadata": {},
     "output_type": "execute_result"
    }
   ],
   "source": [
    "model = LinearRegression()\n",
    "model.fit(X_poly, y_with_noise)"
   ]
  },
  {
   "cell_type": "markdown",
   "id": "8b41a55e",
   "metadata": {},
   "source": [
    "## 3.2.2 회귀식 확인하기"
   ]
  },
  {
   "cell_type": "code",
   "execution_count": 141,
   "id": "507f7f1b",
   "metadata": {},
   "outputs": [
    {
     "data": {
      "text/plain": [
       "array([1.0466608])"
      ]
     },
     "execution_count": 141,
     "metadata": {},
     "output_type": "execute_result"
    }
   ],
   "source": [
    "model.intercept_"
   ]
  },
  {
   "cell_type": "code",
   "execution_count": 143,
   "id": "4999798b",
   "metadata": {},
   "outputs": [
    {
     "data": {
      "text/plain": [
       "array([[2.02459592, 2.96023615]])"
      ]
     },
     "execution_count": 143,
     "metadata": {},
     "output_type": "execute_result"
    }
   ],
   "source": [
    "model.coef_  #비교적 잘맞추는것을 확인할 수 있음"
   ]
  },
  {
   "cell_type": "markdown",
   "id": "fe87db7b",
   "metadata": {},
   "source": [
    "## 3.2.3 예측하기"
   ]
  },
  {
   "cell_type": "code",
   "execution_count": 145,
   "id": "4ec14263",
   "metadata": {},
   "outputs": [],
   "source": [
    "pred = model.predict(X_poly)"
   ]
  },
  {
   "cell_type": "markdown",
   "id": "5fe021db",
   "metadata": {},
   "source": [
    "## 3.3 예측값을 Plot으로 확인하기"
   ]
  },
  {
   "cell_type": "markdown",
   "id": "8f6a2e16",
   "metadata": {},
   "source": [
    "#### * 비선형으로 예측하는 것을 확인할 수 있습니다."
   ]
  },
  {
   "cell_type": "code",
   "execution_count": 147,
   "id": "cd0704b7",
   "metadata": {},
   "outputs": [
    {
     "data": {
      "text/plain": [
       "<matplotlib.collections.PathCollection at 0x145191670>"
      ]
     },
     "execution_count": 147,
     "metadata": {},
     "output_type": "execute_result"
    },
    {
     "data": {
      "image/png": "[encoded data removed]",
      "text/plain": [
       "<Figure size 432x288 with 1 Axes>"
      ]
     },
     "metadata": {
      "needs_background": "light"
     },
     "output_type": "display_data"
    }
   ],
   "source": [
    "plt.scatter(X,pred)"
   ]
  },
  {
   "cell_type": "code",
   "execution_count": null,
   "id": "c14e3354",
   "metadata": {},
   "outputs": [],
   "source": []
  }
 ],
 "metadata": {
  "kernelspec": {
   "display_name": "Python 3 (ipykernel)",
   "language": "python",
   "name": "python3"
  },
  "language_info": {
   "codemirror_mode": {
    "name": "ipython",
    "version": 3
   },
   "file_extension": ".py",
   "mimetype": "text/x-python",
   "name": "python",
   "nbconvert_exporter": "python",
   "pygments_lexer": "ipython3",
   "version": "3.8.13"
  }
 },
 "nbformat": 4,
 "nbformat_minor": 5
}
